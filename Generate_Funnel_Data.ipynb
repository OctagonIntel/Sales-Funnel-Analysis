{
 "cells": [
  {
   "cell_type": "code",
   "execution_count": 3,
   "id": "8f4391a4-9975-42e9-94a0-84fb03797548",
   "metadata": {
    "scrolled": true
   },
   "outputs": [],
   "source": [
    "import pandas as pd\n",
    "import numpy as np\n",
    "import random\n",
    "from faker import Faker\n",
    "from datetime import datetime, timedelta"
   ]
  },
  {
   "cell_type": "code",
   "execution_count": 2,
   "id": "3104e4ac-e329-4210-b0c6-ca2d0fa92506",
   "metadata": {},
   "outputs": [
    {
     "name": "stdout",
     "output_type": "stream",
     "text": [
      "Collecting faker\n",
      "  Downloading faker-37.4.0-py3-none-any.whl.metadata (15 kB)\n",
      "Requirement already satisfied: tzdata in c:\\users\\user\\anaconda3\\lib\\site-packages (from faker) (2023.3)\n",
      "Downloading faker-37.4.0-py3-none-any.whl (1.9 MB)\n",
      "   ---------------------------------------- 0.0/1.9 MB ? eta -:--:--\n",
      "   ---------------------------------------- 0.0/1.9 MB ? eta -:--:--\n",
      "   ---------------------------------------- 0.0/1.9 MB ? eta -:--:--\n",
      "   ----- ---------------------------------- 0.3/1.9 MB ? eta -:--:--\n",
      "   ---------- ----------------------------- 0.5/1.9 MB 728.2 kB/s eta 0:00:02\n",
      "   ---------- ----------------------------- 0.5/1.9 MB 728.2 kB/s eta 0:00:02\n",
      "   ---------------- ----------------------- 0.8/1.9 MB 699.0 kB/s eta 0:00:02\n",
      "   --------------------- ------------------ 1.0/1.9 MB 774.0 kB/s eta 0:00:02\n",
      "   -------------------------- ------------- 1.3/1.9 MB 870.9 kB/s eta 0:00:01\n",
      "   -------------------------------- ------- 1.6/1.9 MB 942.3 kB/s eta 0:00:01\n",
      "   ---------------------------------------- 1.9/1.9 MB 1.1 MB/s eta 0:00:00\n",
      "Installing collected packages: faker\n",
      "Successfully installed faker-37.4.0\n"
     ]
    }
   ],
   "source": [
    "!pip install faker"
   ]
  },
  {
   "cell_type": "code",
   "execution_count": 9,
   "id": "a75bddaa-11f9-47e7-b8ab-60532c6e16b1",
   "metadata": {},
   "outputs": [],
   "source": [
    "fake = Faker()\n",
    "num_leads = 10000\n",
    "\n",
    "lead_sources = ['Google Ads', 'LinkedIn', 'Email Campaign', 'Referral', 'Direct']\n",
    "industries = ['Tech', 'Healthcare', 'Retail', 'Finance', 'Education']\n",
    "funnel_stages = ['Awareness', 'Interest', 'Consideration', 'Demo', 'Proposal', 'Closed']\n",
    "\n",
    "data = []\n",
    "\n",
    "for i in range(num_leads):\n",
    "    lead_id = f\"L-{10000+i}\"\n",
    "    name = fake.name()\n",
    "    source = random.choice(lead_sources)\n",
    "    industry = random.choice(industries)\n",
    "    signup_date = fake.date_between(start_date='-6M', end_date='today')\n",
    "\n",
    "    stage_progression = funnel_stages.copy()\n",
    "    max_stage_index = 0\n",
    "    \n",
    "    for idx in range(1, len(funnel_stages)):\n",
    "        if random.random() < 0.75:  # 75% chance of progressing\n",
    "            max_stage_index = idx\n",
    "        else:\n",
    "            break\n",
    "\n",
    "    final_stage = stage_progression[max_stage_index]\n",
    "    converted = 1 if final_stage == 'Closed' and random.random() < 0.6 else 0\n",
    "    revenue = round(random.uniform(200, 2000), 2) if converted else 0\n",
    "\n",
    "    data.append([\n",
    "        lead_id, name, source, industry, signup_date,\n",
    "        final_stage, converted, revenue\n",
    "    ])"
   ]
  },
  {
   "cell_type": "code",
   "execution_count": 10,
   "id": "83d43ae1-a3e6-4e4a-9850-d34123b79c8d",
   "metadata": {},
   "outputs": [],
   "source": [
    "df = pd.DataFrame(data, columns=[\n",
    "    'lead_id', 'lead_name', 'lead_source', 'industry', 'signup_date',\n",
    "    'stage_reached', 'converted', 'revenue'\n",
    "])"
   ]
  },
  {
   "cell_type": "code",
   "execution_count": 11,
   "id": "8e49959d-0cf6-456c-8e5d-ed49335124b0",
   "metadata": {},
   "outputs": [
    {
     "data": {
      "text/html": [
       "<div>\n",
       "<style scoped>\n",
       "    .dataframe tbody tr th:only-of-type {\n",
       "        vertical-align: middle;\n",
       "    }\n",
       "\n",
       "    .dataframe tbody tr th {\n",
       "        vertical-align: top;\n",
       "    }\n",
       "\n",
       "    .dataframe thead th {\n",
       "        text-align: right;\n",
       "    }\n",
       "</style>\n",
       "<table border=\"1\" class=\"dataframe\">\n",
       "  <thead>\n",
       "    <tr style=\"text-align: right;\">\n",
       "      <th></th>\n",
       "      <th>lead_id</th>\n",
       "      <th>lead_name</th>\n",
       "      <th>lead_source</th>\n",
       "      <th>industry</th>\n",
       "      <th>signup_date</th>\n",
       "      <th>stage_reached</th>\n",
       "      <th>converted</th>\n",
       "      <th>revenue</th>\n",
       "    </tr>\n",
       "  </thead>\n",
       "  <tbody>\n",
       "    <tr>\n",
       "      <th>0</th>\n",
       "      <td>L-10000</td>\n",
       "      <td>Abigail Frost</td>\n",
       "      <td>Referral</td>\n",
       "      <td>Education</td>\n",
       "      <td>2025-06-16</td>\n",
       "      <td>Interest</td>\n",
       "      <td>0</td>\n",
       "      <td>0.0</td>\n",
       "    </tr>\n",
       "    <tr>\n",
       "      <th>1</th>\n",
       "      <td>L-10001</td>\n",
       "      <td>David Perry</td>\n",
       "      <td>Referral</td>\n",
       "      <td>Healthcare</td>\n",
       "      <td>2025-07-13</td>\n",
       "      <td>Interest</td>\n",
       "      <td>0</td>\n",
       "      <td>0.0</td>\n",
       "    </tr>\n",
       "    <tr>\n",
       "      <th>2</th>\n",
       "      <td>L-10002</td>\n",
       "      <td>Taylor Murray</td>\n",
       "      <td>Email Campaign</td>\n",
       "      <td>Finance</td>\n",
       "      <td>2025-06-22</td>\n",
       "      <td>Consideration</td>\n",
       "      <td>0</td>\n",
       "      <td>0.0</td>\n",
       "    </tr>\n",
       "    <tr>\n",
       "      <th>3</th>\n",
       "      <td>L-10003</td>\n",
       "      <td>Cody Adams</td>\n",
       "      <td>LinkedIn</td>\n",
       "      <td>Education</td>\n",
       "      <td>2025-05-16</td>\n",
       "      <td>Awareness</td>\n",
       "      <td>0</td>\n",
       "      <td>0.0</td>\n",
       "    </tr>\n",
       "    <tr>\n",
       "      <th>4</th>\n",
       "      <td>L-10004</td>\n",
       "      <td>Emily Harris</td>\n",
       "      <td>Direct</td>\n",
       "      <td>Tech</td>\n",
       "      <td>2025-04-14</td>\n",
       "      <td>Proposal</td>\n",
       "      <td>0</td>\n",
       "      <td>0.0</td>\n",
       "    </tr>\n",
       "  </tbody>\n",
       "</table>\n",
       "</div>"
      ],
      "text/plain": [
       "   lead_id      lead_name     lead_source    industry signup_date  \\\n",
       "0  L-10000  Abigail Frost        Referral   Education  2025-06-16   \n",
       "1  L-10001    David Perry        Referral  Healthcare  2025-07-13   \n",
       "2  L-10002  Taylor Murray  Email Campaign     Finance  2025-06-22   \n",
       "3  L-10003     Cody Adams        LinkedIn   Education  2025-05-16   \n",
       "4  L-10004   Emily Harris          Direct        Tech  2025-04-14   \n",
       "\n",
       "   stage_reached  converted  revenue  \n",
       "0       Interest          0      0.0  \n",
       "1       Interest          0      0.0  \n",
       "2  Consideration          0      0.0  \n",
       "3      Awareness          0      0.0  \n",
       "4       Proposal          0      0.0  "
      ]
     },
     "execution_count": 11,
     "metadata": {},
     "output_type": "execute_result"
    }
   ],
   "source": [
    "df.head()"
   ]
  },
  {
   "cell_type": "code",
   "execution_count": 15,
   "id": "24e610f8-b6cb-410e-ac4a-2a1a1b8232e4",
   "metadata": {},
   "outputs": [],
   "source": [
    "df.to_excel(\"sales_funnel_data.xlsx\", index=False)"
   ]
  },
  {
   "cell_type": "code",
   "execution_count": 16,
   "id": "2d027690-05a5-4bae-befd-7994f94ff74c",
   "metadata": {},
   "outputs": [
    {
     "data": {
      "text/plain": [
       "'C:\\\\Users\\\\User'"
      ]
     },
     "execution_count": 16,
     "metadata": {},
     "output_type": "execute_result"
    }
   ],
   "source": [
    "import os\n",
    "os.getcwd()"
   ]
  },
  {
   "cell_type": "code",
   "execution_count": 18,
   "id": "c5c759b0-531f-4091-925e-6879c1b32199",
   "metadata": {},
   "outputs": [
    {
     "name": "stdout",
     "output_type": "stream",
     "text": [
      "Requirement already satisfied: openpyxl in c:\\users\\user\\anaconda3\\lib\\site-packages (3.1.5)\n",
      "Requirement already satisfied: et-xmlfile in c:\\users\\user\\anaconda3\\lib\\site-packages (from openpyxl) (1.1.0)\n"
     ]
    }
   ],
   "source": [
    "!pip install openpyxl"
   ]
  },
  {
   "cell_type": "code",
   "execution_count": 21,
   "id": "2b06f4ba-2f1b-412f-a98b-22fa214a3feb",
   "metadata": {},
   "outputs": [],
   "source": [
    "df.to_excel(r\"C:/BA Projects/Sales-Funnel-Analysis/Data/sales_funnel_data.xlsx\", index=False)\n"
   ]
  },
  {
   "cell_type": "code",
   "execution_count": null,
   "id": "5c54f1c7-7b4f-4b4e-9926-e00c04fd2137",
   "metadata": {},
   "outputs": [],
   "source": []
  }
 ],
 "metadata": {
  "kernelspec": {
   "display_name": "Python [conda env:base] *",
   "language": "python",
   "name": "conda-base-py"
  },
  "language_info": {
   "codemirror_mode": {
    "name": "ipython",
    "version": 3
   },
   "file_extension": ".py",
   "mimetype": "text/x-python",
   "name": "python",
   "nbconvert_exporter": "python",
   "pygments_lexer": "ipython3",
   "version": "3.12.7"
  }
 },
 "nbformat": 4,
 "nbformat_minor": 5
}
